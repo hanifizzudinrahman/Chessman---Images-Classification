{
  "nbformat": 4,
  "nbformat_minor": 0,
  "metadata": {
    "colab": {
      "name": "Untitled0.ipynb",
      "provenance": []
    },
    "kernelspec": {
      "name": "python3",
      "display_name": "Python 3"
    },
    "language_info": {
      "name": "python"
    }
  },
  "cells": [
    {
      "cell_type": "code",
      "metadata": {
        "colab": {
          "base_uri": "https://localhost:8080/"
        },
        "id": "3nGg6E5DCKFh",
        "outputId": "8b70c710-2dd3-40eb-f117-f89a59d6bef8"
      },
      "source": [
        "!wget --no-check-certificate \\\n",
        "  https://github.com/dicodingacademy/assets/raw/main/ml_pengembangan_academy/Chessman-image-dataset.zip \\\n",
        "  -O /tmp/Chessman-image-dataset.zip"
      ],
      "execution_count": null,
      "outputs": [
        {
          "output_type": "stream",
          "text": [
            "--2021-08-11 07:06:42--  https://github.com/dicodingacademy/assets/raw/main/ml_pengembangan_academy/Chessman-image-dataset.zip\n",
            "Resolving github.com (github.com)... 192.30.255.113\n",
            "Connecting to github.com (github.com)|192.30.255.113|:443... connected.\n",
            "HTTP request sent, awaiting response... 302 Found\n",
            "Location: https://raw.githubusercontent.com/dicodingacademy/assets/main/ml_pengembangan_academy/Chessman-image-dataset.zip [following]\n",
            "--2021-08-11 07:06:42--  https://raw.githubusercontent.com/dicodingacademy/assets/main/ml_pengembangan_academy/Chessman-image-dataset.zip\n",
            "Resolving raw.githubusercontent.com (raw.githubusercontent.com)... 185.199.109.133, 185.199.110.133, 185.199.111.133, ...\n",
            "Connecting to raw.githubusercontent.com (raw.githubusercontent.com)|185.199.109.133|:443... connected.\n",
            "HTTP request sent, awaiting response... 200 OK\n",
            "Length: 60684125 (58M) [application/zip]\n",
            "Saving to: ‘/tmp/Chessman-image-dataset.zip’\n",
            "\n",
            "/tmp/Chessman-image 100%[===================>]  57.87M   120MB/s    in 0.5s    \n",
            "\n",
            "2021-08-11 07:06:44 (120 MB/s) - ‘/tmp/Chessman-image-dataset.zip’ saved [60684125/60684125]\n",
            "\n"
          ],
          "name": "stdout"
        }
      ]
    },
    {
      "cell_type": "code",
      "metadata": {
        "id": "MqPb17R1CMVc"
      },
      "source": [
        "import os\n",
        "import zipfile\n",
        "from tensorflow.keras.preprocessing.image import ImageDataGenerator\n",
        "local_zip = '/tmp/Chessman-image-dataset.zip'\n",
        "zip_ref = zipfile.ZipFile(local_zip, 'r')\n",
        "zip_ref.extractall('/tmp')\n",
        "zip_ref.close()\n",
        "train_dir = os.path.join('/tmp/Chessman-image-dataset/Chess')\n",
        "train_datagen = ImageDataGenerator(rescale=1./255,\n",
        "    rotation_range=20,\n",
        "    zoom_range=0.2,\n",
        "    shear_range=0.2,\n",
        "    fill_mode = 'nearest',\n",
        "    validation_split=0.1) # set validation split"
      ],
      "execution_count": null,
      "outputs": []
    },
    {
      "cell_type": "code",
      "metadata": {
        "colab": {
          "base_uri": "https://localhost:8080/"
        },
        "id": "IX4EMTWRCQWh",
        "outputId": "9809565f-9ca4-46e1-c28d-e2dc409f4aaa"
      },
      "source": [
        "train_generator = train_datagen.flow_from_directory(\n",
        "    train_dir,\n",
        "    target_size=(150, 150),\n",
        "    batch_size=8,\n",
        "    class_mode='categorical',\n",
        "    subset='training') # set as training data\n",
        "validation_generator = train_datagen.flow_from_directory(\n",
        "    train_dir, # same directory as training data\n",
        "    target_size=(150, 150),\n",
        "    batch_size=16,\n",
        "    class_mode='categorical',\n",
        "    subset='validation')"
      ],
      "execution_count": null,
      "outputs": [
        {
          "output_type": "stream",
          "text": [
            "Found 499 images belonging to 6 classes.\n",
            "Found 52 images belonging to 6 classes.\n"
          ],
          "name": "stdout"
        }
      ]
    },
    {
      "cell_type": "code",
      "metadata": {
        "colab": {
          "base_uri": "https://localhost:8080/"
        },
        "id": "Pc3Nku6NCRop",
        "outputId": "78ed9fa3-94ff-4784-b9a9-e52254c754c2"
      },
      "source": [
        "import tensorflow as tf\n",
        "from tensorflow.keras.layers import Input\n",
        "from tensorflow.keras.applications import ResNet50\n",
        "from tensorflow.keras.applications import ResNet152V2\n",
        "model = tf.keras.models.Sequential([\n",
        "    ResNet152V2(weights=\"imagenet\", include_top=False, input_tensor=Input(shape=(150, 150, 3))),\n",
        "    # tf.keras.layers.Dropout(0.4),\n",
        "    tf.keras.layers.Flatten(), \n",
        "    tf.keras.layers.Dense(512, activation='relu'),\n",
        "    tf.keras.layers.Dense(256, activation='relu'),\n",
        "    tf.keras.layers.Dense(6, activation='softmax')  \n",
        "])\n",
        "model.layers[0].trainable = False"
      ],
      "execution_count": null,
      "outputs": [
        {
          "output_type": "stream",
          "text": [
            "Downloading data from https://storage.googleapis.com/tensorflow/keras-applications/resnet/resnet152v2_weights_tf_dim_ordering_tf_kernels_notop.h5\n",
            "234553344/234545216 [==============================] - 2s 0us/step\n"
          ],
          "name": "stdout"
        }
      ]
    },
    {
      "cell_type": "code",
      "metadata": {
        "id": "TJNj7vkuCTrw"
      },
      "source": [
        "model.compile(optimizer=tf.optimizers.Adam(),\n",
        "              loss='categorical_crossentropy',\n",
        "              metrics = ['accuracy'])"
      ],
      "execution_count": null,
      "outputs": []
    },
    {
      "cell_type": "code",
      "metadata": {
        "colab": {
          "base_uri": "https://localhost:8080/"
        },
        "id": "jJV46O6pCVsm",
        "outputId": "181406f4-9fee-4e36-a3ec-397f3c213e1e"
      },
      "source": [
        "history = model.fit(train_generator,\n",
        "                              validation_data=validation_generator,\n",
        "                              epochs=50,\n",
        "                              verbose=1)"
      ],
      "execution_count": 7,
      "outputs": [
        {
          "output_type": "stream",
          "text": [
            "Epoch 1/50\n",
            "63/63 [==============================] - 135s 2s/step - loss: 6.6989 - accuracy: 0.4890 - val_loss: 5.6277 - val_accuracy: 0.4615\n",
            "Epoch 2/50\n",
            "63/63 [==============================] - 131s 2s/step - loss: 2.3084 - accuracy: 0.6453 - val_loss: 1.5853 - val_accuracy: 0.5962\n",
            "Epoch 3/50\n",
            "63/63 [==============================] - 132s 2s/step - loss: 1.1837 - accuracy: 0.7415 - val_loss: 1.3675 - val_accuracy: 0.6538\n",
            "Epoch 4/50\n",
            "63/63 [==============================] - 132s 2s/step - loss: 0.9396 - accuracy: 0.7715 - val_loss: 1.3885 - val_accuracy: 0.5962\n",
            "Epoch 5/50\n",
            "63/63 [==============================] - 132s 2s/step - loss: 0.7191 - accuracy: 0.8036 - val_loss: 1.7203 - val_accuracy: 0.5962\n",
            "Epoch 6/50\n",
            "63/63 [==============================] - 132s 2s/step - loss: 0.4605 - accuracy: 0.8537 - val_loss: 0.8290 - val_accuracy: 0.7308\n",
            "Epoch 7/50\n",
            "63/63 [==============================] - 132s 2s/step - loss: 0.3864 - accuracy: 0.8878 - val_loss: 0.8722 - val_accuracy: 0.7885\n",
            "Epoch 8/50\n",
            "63/63 [==============================] - 132s 2s/step - loss: 0.5309 - accuracy: 0.8417 - val_loss: 2.9391 - val_accuracy: 0.6538\n",
            "Epoch 9/50\n",
            "63/63 [==============================] - 132s 2s/step - loss: 0.6261 - accuracy: 0.8637 - val_loss: 1.2239 - val_accuracy: 0.7885\n",
            "Epoch 10/50\n",
            "63/63 [==============================] - 131s 2s/step - loss: 0.6026 - accuracy: 0.8497 - val_loss: 1.1357 - val_accuracy: 0.8077\n",
            "Epoch 11/50\n",
            "63/63 [==============================] - 131s 2s/step - loss: 0.5468 - accuracy: 0.8717 - val_loss: 1.1892 - val_accuracy: 0.7885\n",
            "Epoch 12/50\n",
            "63/63 [==============================] - 131s 2s/step - loss: 0.6245 - accuracy: 0.8697 - val_loss: 0.7218 - val_accuracy: 0.8269\n",
            "Epoch 13/50\n",
            "63/63 [==============================] - 132s 2s/step - loss: 0.4395 - accuracy: 0.8677 - val_loss: 1.1659 - val_accuracy: 0.7115\n",
            "Epoch 14/50\n",
            "63/63 [==============================] - 132s 2s/step - loss: 0.7328 - accuracy: 0.8717 - val_loss: 0.9941 - val_accuracy: 0.8077\n",
            "Epoch 15/50\n",
            "63/63 [==============================] - 137s 2s/step - loss: 0.6250 - accuracy: 0.8918 - val_loss: 0.5189 - val_accuracy: 0.8269\n",
            "Epoch 16/50\n",
            "63/63 [==============================] - 132s 2s/step - loss: 0.5198 - accuracy: 0.9078 - val_loss: 1.3569 - val_accuracy: 0.7500\n",
            "Epoch 17/50\n",
            "63/63 [==============================] - 133s 2s/step - loss: 0.4421 - accuracy: 0.8858 - val_loss: 0.9678 - val_accuracy: 0.7885\n",
            "Epoch 18/50\n",
            "63/63 [==============================] - 131s 2s/step - loss: 0.4206 - accuracy: 0.9178 - val_loss: 0.6660 - val_accuracy: 0.8654\n",
            "Epoch 19/50\n",
            "63/63 [==============================] - 131s 2s/step - loss: 0.2743 - accuracy: 0.9299 - val_loss: 1.0129 - val_accuracy: 0.7500\n",
            "Epoch 20/50\n",
            "63/63 [==============================] - 131s 2s/step - loss: 0.3305 - accuracy: 0.9359 - val_loss: 0.8268 - val_accuracy: 0.7885\n",
            "Epoch 21/50\n",
            "63/63 [==============================] - 131s 2s/step - loss: 0.2111 - accuracy: 0.9499 - val_loss: 1.1157 - val_accuracy: 0.7692\n",
            "Epoch 22/50\n",
            "63/63 [==============================] - 131s 2s/step - loss: 0.1121 - accuracy: 0.9639 - val_loss: 0.9965 - val_accuracy: 0.7500\n",
            "Epoch 23/50\n",
            "63/63 [==============================] - 131s 2s/step - loss: 0.1262 - accuracy: 0.9559 - val_loss: 0.5621 - val_accuracy: 0.8654\n",
            "Epoch 24/50\n",
            "63/63 [==============================] - 132s 2s/step - loss: 0.3176 - accuracy: 0.9499 - val_loss: 0.9634 - val_accuracy: 0.8269\n",
            "Epoch 25/50\n",
            "63/63 [==============================] - 132s 2s/step - loss: 0.4605 - accuracy: 0.9098 - val_loss: 0.7928 - val_accuracy: 0.7692\n",
            "Epoch 26/50\n",
            "63/63 [==============================] - 133s 2s/step - loss: 0.3414 - accuracy: 0.9339 - val_loss: 1.2728 - val_accuracy: 0.8269\n",
            "Epoch 27/50\n",
            "63/63 [==============================] - 131s 2s/step - loss: 0.4002 - accuracy: 0.9299 - val_loss: 1.0700 - val_accuracy: 0.7308\n",
            "Epoch 28/50\n",
            "63/63 [==============================] - 130s 2s/step - loss: 0.2363 - accuracy: 0.9419 - val_loss: 1.4219 - val_accuracy: 0.8077\n",
            "Epoch 29/50\n",
            "63/63 [==============================] - 132s 2s/step - loss: 0.2020 - accuracy: 0.9459 - val_loss: 0.7223 - val_accuracy: 0.8077\n",
            "Epoch 30/50\n",
            "63/63 [==============================] - 132s 2s/step - loss: 0.3538 - accuracy: 0.9259 - val_loss: 0.7198 - val_accuracy: 0.8462\n",
            "Epoch 31/50\n",
            "63/63 [==============================] - 131s 2s/step - loss: 0.1670 - accuracy: 0.9539 - val_loss: 1.0917 - val_accuracy: 0.8077\n",
            "Epoch 32/50\n",
            "63/63 [==============================] - 132s 2s/step - loss: 0.2153 - accuracy: 0.9419 - val_loss: 1.6224 - val_accuracy: 0.6923\n",
            "Epoch 33/50\n",
            "63/63 [==============================] - 134s 2s/step - loss: 0.2289 - accuracy: 0.9499 - val_loss: 0.7143 - val_accuracy: 0.8654\n",
            "Epoch 34/50\n",
            "63/63 [==============================] - 133s 2s/step - loss: 0.1769 - accuracy: 0.9419 - val_loss: 1.0188 - val_accuracy: 0.8077\n",
            "Epoch 35/50\n",
            "63/63 [==============================] - 133s 2s/step - loss: 0.1953 - accuracy: 0.9559 - val_loss: 1.9759 - val_accuracy: 0.7885\n",
            "Epoch 36/50\n",
            "63/63 [==============================] - 132s 2s/step - loss: 0.2122 - accuracy: 0.9539 - val_loss: 1.6861 - val_accuracy: 0.8269\n",
            "Epoch 37/50\n",
            "63/63 [==============================] - 133s 2s/step - loss: 0.2665 - accuracy: 0.9439 - val_loss: 0.7827 - val_accuracy: 0.7308\n",
            "Epoch 38/50\n",
            "63/63 [==============================] - 134s 2s/step - loss: 0.1208 - accuracy: 0.9719 - val_loss: 1.2795 - val_accuracy: 0.7308\n",
            "Epoch 39/50\n",
            "63/63 [==============================] - 131s 2s/step - loss: 0.1972 - accuracy: 0.9659 - val_loss: 1.4382 - val_accuracy: 0.7692\n",
            "Epoch 40/50\n",
            "63/63 [==============================] - 133s 2s/step - loss: 0.1050 - accuracy: 0.9659 - val_loss: 2.3895 - val_accuracy: 0.5769\n",
            "Epoch 41/50\n",
            "63/63 [==============================] - 140s 2s/step - loss: 0.1111 - accuracy: 0.9760 - val_loss: 1.0071 - val_accuracy: 0.8077\n",
            "Epoch 42/50\n",
            "63/63 [==============================] - 152s 2s/step - loss: 0.3228 - accuracy: 0.9599 - val_loss: 2.0131 - val_accuracy: 0.6731\n",
            "Epoch 43/50\n",
            "63/63 [==============================] - 158s 3s/step - loss: 0.4997 - accuracy: 0.9078 - val_loss: 0.9715 - val_accuracy: 0.8077\n",
            "Epoch 44/50\n",
            "63/63 [==============================] - 137s 2s/step - loss: 0.1593 - accuracy: 0.9679 - val_loss: 1.3673 - val_accuracy: 0.7692\n",
            "Epoch 45/50\n",
            "63/63 [==============================] - 135s 2s/step - loss: 0.1391 - accuracy: 0.9739 - val_loss: 0.9870 - val_accuracy: 0.7692\n",
            "Epoch 46/50\n",
            "63/63 [==============================] - 133s 2s/step - loss: 0.1514 - accuracy: 0.9699 - val_loss: 1.0294 - val_accuracy: 0.8077\n",
            "Epoch 47/50\n",
            "63/63 [==============================] - 134s 2s/step - loss: 0.0761 - accuracy: 0.9719 - val_loss: 1.1338 - val_accuracy: 0.7885\n",
            "Epoch 48/50\n",
            "63/63 [==============================] - 131s 2s/step - loss: 0.2369 - accuracy: 0.9539 - val_loss: 1.7373 - val_accuracy: 0.7500\n",
            "Epoch 49/50\n",
            "63/63 [==============================] - 134s 2s/step - loss: 0.2634 - accuracy: 0.9519 - val_loss: 2.4416 - val_accuracy: 0.7885\n",
            "Epoch 50/50\n",
            "63/63 [==============================] - 132s 2s/step - loss: 0.2995 - accuracy: 0.9599 - val_loss: 1.3168 - val_accuracy: 0.7885\n"
          ],
          "name": "stdout"
        }
      ]
    },
    {
      "cell_type": "code",
      "metadata": {
        "id": "olKfeGaXCW5m"
      },
      "source": [
        ""
      ],
      "execution_count": null,
      "outputs": []
    }
  ]
}